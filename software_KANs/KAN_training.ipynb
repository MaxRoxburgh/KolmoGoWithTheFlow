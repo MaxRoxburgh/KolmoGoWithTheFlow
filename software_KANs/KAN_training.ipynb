{
 "cells": [
  {
   "cell_type": "code",
   "id": "initial_id",
   "metadata": {
    "collapsed": true,
    "ExecuteTime": {
     "end_time": "2025-08-15T12:31:43.983874Z",
     "start_time": "2025-08-15T12:31:41.883517Z"
    }
   },
   "source": [
    "from utils import run_experiment\n",
    "\n",
    "# example usage\n",
    "run_experiment(\n",
    "    TEST_SPLIT = 0.1,\n",
    "    model_size = [2,1,1],\n",
    "    grid_size = 5,\n",
    "    seed = 42,\n",
    "    steps = 80,\n",
    "    threshold = 3.5,\n",
    ")\n"
   ],
   "outputs": [
    {
     "data": {
      "text/plain": [
       "('moons', <function functions_2D.<lambda>()>)"
      ]
     },
     "execution_count": 1,
     "metadata": {},
     "output_type": "execute_result"
    }
   ],
   "execution_count": 1
  },
  {
   "metadata": {},
   "cell_type": "code",
   "outputs": [],
   "execution_count": null,
   "source": "",
   "id": "4bc0b7fb86805bab"
  }
 ],
 "metadata": {
  "kernelspec": {
   "display_name": "Python 3",
   "language": "python",
   "name": "python3"
  },
  "language_info": {
   "codemirror_mode": {
    "name": "ipython",
    "version": 2
   },
   "file_extension": ".py",
   "mimetype": "text/x-python",
   "name": "python",
   "nbconvert_exporter": "python",
   "pygments_lexer": "ipython2",
   "version": "2.7.6"
  }
 },
 "nbformat": 4,
 "nbformat_minor": 5
}
